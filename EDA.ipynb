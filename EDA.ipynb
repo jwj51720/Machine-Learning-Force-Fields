{
 "cells": [
  {
   "cell_type": "code",
   "execution_count": 1,
   "metadata": {},
   "outputs": [],
   "source": [
    "import os, random\n",
    "import numpy as np\n",
    "import pandas as pd\n",
    "from ase.io import read\n",
    "from collections import Counter"
   ]
  },
  {
   "cell_type": "code",
   "execution_count": 2,
   "metadata": {},
   "outputs": [],
   "source": [
    "train = read('./data/train.xyz', format='extxyz', index=':') # 전체 데이터 불러오기\n",
    "test = read('./data/test.xyz', format='extxyz', index=':')\n",
    "sample = pd.read_csv('./data/sample_submission.csv')"
   ]
  },
  {
   "cell_type": "markdown",
   "metadata": {},
   "source": [
    "# 1. train data"
   ]
  },
  {
   "cell_type": "markdown",
   "metadata": {},
   "source": [
    "## 1.1 데이터의 길이"
   ]
  },
  {
   "cell_type": "code",
   "execution_count": 24,
   "metadata": {},
   "outputs": [
    {
     "name": "stdout",
     "output_type": "stream",
     "text": [
      "length of train:  22510\n",
      "information of train[0]:  Atoms(symbols='N24Si24', pbc=True, cell=[8.52238831, 8.52238831, 8.52238831], forces=..., calculator=SinglePointCalculator(...))\n",
      "length of train[0]:  48\n",
      "information of train[0][0]:  Atom('N', [1.59173729, 4.20048347, 7.83224513], index=0)\n",
      "information of train[0][1]:  Atom('Si', [2.55477637, 4.14399683, 0.91811246], index=47)\n"
     ]
    }
   ],
   "source": [
    "print(\"length of train: \",len(train))\n",
    "print(\"information of train[0]: \",train[0])\n",
    "print(\"length of train[0]: \",len(train[0]))\n",
    "print(\"information of train[0][0]: \",train[0][0])\n",
    "print(\"information of train[0][1]: \",train[0][47])"
   ]
  },
  {
   "cell_type": "markdown",
   "metadata": {},
   "source": [
    "- train에는 22510개의 Atoms가 존재한다. 이 Atoms는 여러 정보를 가지고 있다.\n",
    "- 0번 Atoms는 48개의 atom을 가지고 있다. 이는 symbols = N24Si24 즉, N 24개 Si 24개로 이루어져 있는 것을 알 수 있다. \n",
    "- 이 Atom들은 index 0부터 47번까지 존재한다."
   ]
  },
  {
   "cell_type": "markdown",
   "metadata": {},
   "source": [
    "## 1.2 Atoms로부터 얻을 수 있는 정보"
   ]
  },
  {
   "cell_type": "code",
   "execution_count": 26,
   "metadata": {},
   "outputs": [],
   "source": [
    "atoms = train[0]"
   ]
  },
  {
   "cell_type": "code",
   "execution_count": 126,
   "metadata": {},
   "outputs": [
    {
     "name": "stdout",
     "output_type": "stream",
     "text": [
      "the number of positions <class 'numpy.ndarray'>\n",
      "the number of forces <class 'numpy.ndarray'>\n",
      "total energy:  -320.35840439\n",
      "potential energy:  -320.35840439\n",
      "\n",
      "원자의 속성\n",
      "number of atoms:  48\n",
      "chemical formula: N24Si24\n",
      "chemical symbols: ['N', 'N', 'N', 'N', 'N', 'N', 'N', 'N', 'N', 'N', 'N', 'N', 'N', 'N', 'N', 'N', 'N', 'N', 'N', 'N', 'N', 'N', 'N', 'N', 'Si', 'Si', 'Si', 'Si', 'Si', 'Si', 'Si', 'Si', 'Si', 'Si', 'Si', 'Si', 'Si', 'Si', 'Si', 'Si', 'Si', 'Si', 'Si', 'Si', 'Si', 'Si', 'Si', 'Si']\n",
      "atomic numbers:  [ 7  7  7  7  7  7  7  7  7  7  7  7  7  7  7  7  7  7  7  7  7  7  7  7\n",
      " 14 14 14 14 14 14 14 14 14 14 14 14 14 14 14 14 14 14 14 14 14 14 14 14]\n",
      "atomic masses:  [14.007 14.007 14.007 14.007 14.007 14.007 14.007 14.007 14.007 14.007\n",
      " 14.007 14.007 14.007 14.007 14.007 14.007 14.007 14.007 14.007 14.007\n",
      " 14.007 14.007 14.007 14.007 28.085 28.085 28.085 28.085 28.085 28.085\n",
      " 28.085 28.085 28.085 28.085 28.085 28.085 28.085 28.085 28.085 28.085\n",
      " 28.085 28.085 28.085 28.085 28.085 28.085 28.085 28.085]\n",
      "\n",
      "도움 될 수도 있는 것\n",
      "pbc: [ True  True  True]\n",
      "cell unit:  Cell([8.52238831, 8.52238831, 8.52238831])\n",
      "all distance of atoms:  (48, 48)\n",
      "moments of inertia:  [10062.41637859 12493.2785726  14916.98470163]\n",
      "volume:  618.9904589431651\n",
      "\n",
      "별로 쓸모 없어보이는 것\n",
      "initial magnetic moments:  [0. 0. 0. 0. 0. 0. 0. 0. 0. 0. 0. 0. 0. 0. 0. 0. 0. 0. 0. 0. 0. 0. 0. 0.\n",
      " 0. 0. 0. 0. 0. 0. 0. 0. 0. 0. 0. 0. 0. 0. 0. 0. 0. 0. 0. 0. 0. 0. 0. 0.]\n",
      "velocity:  <class 'numpy.ndarray'>\n",
      "user custom tags:  [0 0 0 0 0 0 0 0 0 0 0 0 0 0 0 0 0 0 0 0 0 0 0 0 0 0 0 0 0 0 0 0 0 0 0 0 0\n",
      " 0 0 0 0 0 0 0 0 0 0 0]\n",
      "calculator:  SinglePointCalculator(energy=-320.35840439, forces=..., free_energy=-320.36882165)\n",
      "center of mass: [3.90637392 4.39454469 4.11813925]\n",
      "angular momentum:  [0. 0. 0.]\n",
      "momenta:  (48, 3)\n",
      "kinetic energy:  0.0\n",
      "temperature:  0.0\n"
     ]
    }
   ],
   "source": [
    "print(\"the number of positions\",type(atoms.get_positions())) # baseline에서 사용. inputs\n",
    "print(\"the number of forces\",type(atoms.get_forces())) # baseline에서 사용. label 1\n",
    "print(\"total energy: \", atoms.get_total_energy()) # baseline에서 사용. label 2\n",
    "print(\"potential energy: \", atoms.get_potential_energy()) # total energy와 같음\n",
    "print(\"\\n원자의 속성\")\n",
    "print(\"number of atoms: \", atoms.get_global_number_of_atoms()) # 원자의 개수\n",
    "print(\"chemical formula:\", atoms.get_chemical_formula())\n",
    "print(\"chemical symbols:\", atoms.get_chemical_symbols())\n",
    "print(\"atomic numbers: \", atoms.get_atomic_numbers())\n",
    "print(\"atomic masses: \", atoms.get_masses()) # 원자의 종류에 따라 다름\n",
    "print(\"\\n도움 될 수도 있는 것\")\n",
    "print(\"pbc:\",atoms.get_pbc()) # 3 방향인가보다\n",
    "print(\"cell unit: \", atoms.get_cell()) # 셀 구조의 크기. PBC인 경우 반복되는 셀의 크기를 알려줌\n",
    "print(\"all distance of atoms: \", atoms.get_all_distances().shape)\n",
    "print(\"moments of inertia: \",atoms.get_moments_of_inertia()) # 3개의 값을 가지게 됨 중요할수도?\n",
    "print(\"volume: \",atoms.get_volume())\n",
    "print(\"\\n별로 쓸모 없어보이는 것\")\n",
    "print(\"initial magnetic moments: \", atoms.get_initial_magnetic_moments()) # 0만 나오는지 확인해야겠다\n",
    "print(\"velocity: \",type(atoms.get_velocities())) # 모두 0이 나오나 확인해야겠다.\n",
    "print(\"user custom tags: \", atoms.get_tags()) # 사용자 정의 태그라고 한다.\n",
    "print(\"calculator: \",atoms.get_calculator())\n",
    "print(\"center of mass:\",atoms.get_center_of_mass())\n",
    "print(\"angular momentum: \", atoms.get_angular_momentum())\n",
    "print(\"momenta: \",atoms.get_momenta().shape) # 각 원자의 운동량(모멘텀)\n",
    "print(\"kinetic energy: \", atoms.get_kinetic_energy())\n",
    "print(\"temperature: \", atoms.get_temperature())\n",
    "\n",
    "# print(\"stress: \", atoms.get_stress()) # 계산기에 따라서 작동하지 않을 수도 있다고 한다.\n",
    "# print(\"magnetic moments: \", atoms.get_magnetic_moments()) # 계산기에 따라서 작동하지 않을 수도 있다고 한다.\n",
    "# print(\"surface area:\",atoms.get_surface_area()) # 안 나온다.\n",
    "# print(\"constraint: \",atoms.get_constraint()) # 안 나온다.\n",
    "# print(\"charges: \",atoms.get_charges()) # 안 나온다.\n",
    "# print(\"dipole: \",atoms.get_dipole()) # 안 나온다.\n",
    "# print(\"linear momentum: \", atoms.get_linear_momentum()) # 안 나온다."
   ]
  },
  {
   "cell_type": "code",
   "execution_count": 5,
   "metadata": {},
   "outputs": [
    {
     "data": {
      "text/html": [
       "<div>\n",
       "<style scoped>\n",
       "    .dataframe tbody tr th:only-of-type {\n",
       "        vertical-align: middle;\n",
       "    }\n",
       "\n",
       "    .dataframe tbody tr th {\n",
       "        vertical-align: top;\n",
       "    }\n",
       "\n",
       "    .dataframe thead th {\n",
       "        text-align: right;\n",
       "    }\n",
       "</style>\n",
       "<table border=\"1\" class=\"dataframe\">\n",
       "  <thead>\n",
       "    <tr style=\"text-align: right;\">\n",
       "      <th></th>\n",
       "      <th>position_x</th>\n",
       "      <th>position_y</th>\n",
       "      <th>position_z</th>\n",
       "      <th>force</th>\n",
       "    </tr>\n",
       "  </thead>\n",
       "  <tbody>\n",
       "    <tr>\n",
       "      <th>0</th>\n",
       "      <td>1.591737</td>\n",
       "      <td>4.200483</td>\n",
       "      <td>7.832245</td>\n",
       "      <td>[-1.9364797, -2.75540073, 0.90898967]</td>\n",
       "    </tr>\n",
       "    <tr>\n",
       "      <th>1</th>\n",
       "      <td>5.640802</td>\n",
       "      <td>2.305094</td>\n",
       "      <td>4.606757</td>\n",
       "      <td>[1.77046974, -0.17350153, -1.99398617]</td>\n",
       "    </tr>\n",
       "    <tr>\n",
       "      <th>2</th>\n",
       "      <td>6.672786</td>\n",
       "      <td>8.483263</td>\n",
       "      <td>2.981881</td>\n",
       "      <td>[-2.05488716, -0.29381591, -0.89173793]</td>\n",
       "    </tr>\n",
       "    <tr>\n",
       "      <th>3</th>\n",
       "      <td>1.908548</td>\n",
       "      <td>0.147931</td>\n",
       "      <td>1.741693</td>\n",
       "      <td>[-0.89207197, -0.8143158, -1.36426899]</td>\n",
       "    </tr>\n",
       "    <tr>\n",
       "      <th>4</th>\n",
       "      <td>4.375650</td>\n",
       "      <td>6.837884</td>\n",
       "      <td>1.948188</td>\n",
       "      <td>[-4.65938123, -0.77685475, -3.07403915]</td>\n",
       "    </tr>\n",
       "  </tbody>\n",
       "</table>\n",
       "</div>"
      ],
      "text/plain": [
       "   position_x  position_y  position_z                                    force\n",
       "0    1.591737    4.200483    7.832245    [-1.9364797, -2.75540073, 0.90898967]\n",
       "1    5.640802    2.305094    4.606757   [1.77046974, -0.17350153, -1.99398617]\n",
       "2    6.672786    8.483263    2.981881  [-2.05488716, -0.29381591, -0.89173793]\n",
       "3    1.908548    0.147931    1.741693   [-0.89207197, -0.8143158, -1.36426899]\n",
       "4    4.375650    6.837884    1.948188  [-4.65938123, -0.77685475, -3.07403915]"
      ]
     },
     "execution_count": 5,
     "metadata": {},
     "output_type": "execute_result"
    }
   ],
   "source": [
    "sequence_train, symbols, positions_x, positions_y, positions_z, forces, energies = [], [], [], [], [], [], []\n",
    "\n",
    "for i in range(len(train)):\n",
    "    mole = train[i] # 각 분자 - 22510개\n",
    "\n",
    "    atoms = len(mole) # 원자 개수 - 48개\n",
    "    sequence_train.append(atoms) # 22510개의 mole에 들어있는 atoms의 개수를 저장\n",
    "\n",
    "    position = mole.get_positions() # 원자 위치 정보 -> (48, 3)\n",
    "    force = mole.get_forces() # label 1 -> (48, 3)\n",
    "\n",
    "    energy = mole.get_total_energy() # label 2 -> float 값 하나\n",
    "    energies.append(energy)\n",
    "\n",
    "    for j in range(len(mole)): # 각 원자에 대해 반복 -> 48회\n",
    "        atom = mole[j] # i번 분자의 j번째 원자\n",
    "\n",
    "        positions_x.append(position[j][0])\n",
    "        positions_y.append(position[j][1])\n",
    "        positions_z.append(position[j][2])\n",
    "        forces.append(force[j])\n",
    "\n",
    "train_df = pd.DataFrame({'position_x': positions_x, 'position_y':positions_y, 'position_z':positions_z, 'force':forces}) # sequence_train, symbols, energies 아직 사용 안 함\n",
    "train_df.head()"
   ]
  },
  {
   "cell_type": "code",
   "execution_count": 10,
   "metadata": {},
   "outputs": [
    {
     "data": {
      "text/plain": [
       "Counter({48: 11298,\n",
       "         384: 147,\n",
       "         105: 2081,\n",
       "         28: 4946,\n",
       "         222: 27,\n",
       "         278: 27,\n",
       "         376: 27,\n",
       "         280: 54,\n",
       "         140: 27,\n",
       "         168: 54,\n",
       "         96: 1280,\n",
       "         101: 27,\n",
       "         102: 160,\n",
       "         149: 160,\n",
       "         64: 931,\n",
       "         32: 399,\n",
       "         16: 399,\n",
       "         27: 399,\n",
       "         214: 40,\n",
       "         510: 27})"
      ]
     },
     "execution_count": 10,
     "metadata": {},
     "output_type": "execute_result"
    }
   ],
   "source": [
    "Counter(sequence_train)"
   ]
  }
 ],
 "metadata": {
  "kernelspec": {
   "display_name": "samsung",
   "language": "python",
   "name": "python3"
  },
  "language_info": {
   "codemirror_mode": {
    "name": "ipython",
    "version": 3
   },
   "file_extension": ".py",
   "mimetype": "text/x-python",
   "name": "python",
   "nbconvert_exporter": "python",
   "pygments_lexer": "ipython3",
   "version": "3.8.17"
  },
  "orig_nbformat": 4
 },
 "nbformat": 4,
 "nbformat_minor": 2
}
