{
 "cells": [
  {
   "cell_type": "code",
   "execution_count": 9,
   "metadata": {},
   "outputs": [],
   "source": [
    "import os, random\n",
    "import numpy as np\n",
    "import pandas as pd\n",
    "from ase.io import read\n",
    "from collections import Counter"
   ]
  },
  {
   "cell_type": "code",
   "execution_count": 3,
   "metadata": {},
   "outputs": [],
   "source": [
    "train = read('./data/train.xyz', format='extxyz', index=':') # 전체 데이터 불러오기\n",
    "test = read('./data/test.xyz', format='extxyz', index=':')\n",
    "sample = pd.read_csv('./data/sample_submission.csv')"
   ]
  },
  {
   "cell_type": "code",
   "execution_count": 5,
   "metadata": {},
   "outputs": [
    {
     "data": {
      "text/html": [
       "<div>\n",
       "<style scoped>\n",
       "    .dataframe tbody tr th:only-of-type {\n",
       "        vertical-align: middle;\n",
       "    }\n",
       "\n",
       "    .dataframe tbody tr th {\n",
       "        vertical-align: top;\n",
       "    }\n",
       "\n",
       "    .dataframe thead th {\n",
       "        text-align: right;\n",
       "    }\n",
       "</style>\n",
       "<table border=\"1\" class=\"dataframe\">\n",
       "  <thead>\n",
       "    <tr style=\"text-align: right;\">\n",
       "      <th></th>\n",
       "      <th>position_x</th>\n",
       "      <th>position_y</th>\n",
       "      <th>position_z</th>\n",
       "      <th>force</th>\n",
       "    </tr>\n",
       "  </thead>\n",
       "  <tbody>\n",
       "    <tr>\n",
       "      <th>0</th>\n",
       "      <td>1.591737</td>\n",
       "      <td>4.200483</td>\n",
       "      <td>7.832245</td>\n",
       "      <td>[-1.9364797, -2.75540073, 0.90898967]</td>\n",
       "    </tr>\n",
       "    <tr>\n",
       "      <th>1</th>\n",
       "      <td>5.640802</td>\n",
       "      <td>2.305094</td>\n",
       "      <td>4.606757</td>\n",
       "      <td>[1.77046974, -0.17350153, -1.99398617]</td>\n",
       "    </tr>\n",
       "    <tr>\n",
       "      <th>2</th>\n",
       "      <td>6.672786</td>\n",
       "      <td>8.483263</td>\n",
       "      <td>2.981881</td>\n",
       "      <td>[-2.05488716, -0.29381591, -0.89173793]</td>\n",
       "    </tr>\n",
       "    <tr>\n",
       "      <th>3</th>\n",
       "      <td>1.908548</td>\n",
       "      <td>0.147931</td>\n",
       "      <td>1.741693</td>\n",
       "      <td>[-0.89207197, -0.8143158, -1.36426899]</td>\n",
       "    </tr>\n",
       "    <tr>\n",
       "      <th>4</th>\n",
       "      <td>4.375650</td>\n",
       "      <td>6.837884</td>\n",
       "      <td>1.948188</td>\n",
       "      <td>[-4.65938123, -0.77685475, -3.07403915]</td>\n",
       "    </tr>\n",
       "  </tbody>\n",
       "</table>\n",
       "</div>"
      ],
      "text/plain": [
       "   position_x  position_y  position_z                                    force\n",
       "0    1.591737    4.200483    7.832245    [-1.9364797, -2.75540073, 0.90898967]\n",
       "1    5.640802    2.305094    4.606757   [1.77046974, -0.17350153, -1.99398617]\n",
       "2    6.672786    8.483263    2.981881  [-2.05488716, -0.29381591, -0.89173793]\n",
       "3    1.908548    0.147931    1.741693   [-0.89207197, -0.8143158, -1.36426899]\n",
       "4    4.375650    6.837884    1.948188  [-4.65938123, -0.77685475, -3.07403915]"
      ]
     },
     "execution_count": 5,
     "metadata": {},
     "output_type": "execute_result"
    }
   ],
   "source": [
    "sequence_train, symbols, positions_x, positions_y, positions_z, forces, energies = [], [], [], [], [], [], []\n",
    "\n",
    "for i in range(len(train)):\n",
    "    mole = train[i] # 각 분자 - 22510개\n",
    "\n",
    "    atoms = len(mole) # 원자 개수 - 48개\n",
    "    sequence_train.append(atoms) # 22510개의 mole에 들어있는 atoms의 개수를 저장\n",
    "\n",
    "    position = mole.get_positions() # 원자 위치 정보 -> (48, 3)\n",
    "    force = mole.get_forces() # label 1 -> (48, 3)\n",
    "\n",
    "    energy = mole.get_total_energy() # label 2 -> float 값 하나\n",
    "    energies.append(energy)\n",
    "\n",
    "    for j in range(len(mole)): # 각 원자에 대해 반복 -> 48회\n",
    "        atom = mole[j] # i번 분자의 j번째 원자\n",
    "\n",
    "        positions_x.append(position[j][0])\n",
    "        positions_y.append(position[j][1])\n",
    "        positions_z.append(position[j][2])\n",
    "        forces.append(force[j])\n",
    "\n",
    "train_df = pd.DataFrame({'position_x': positions_x, 'position_y':positions_y, 'position_z':positions_z, 'force':forces}) # sequence_train, symbols, energies 아직 사용 안 함\n",
    "train_df.head()"
   ]
  },
  {
   "cell_type": "code",
   "execution_count": 10,
   "metadata": {},
   "outputs": [
    {
     "data": {
      "text/plain": [
       "Counter({48: 11298,\n",
       "         384: 147,\n",
       "         105: 2081,\n",
       "         28: 4946,\n",
       "         222: 27,\n",
       "         278: 27,\n",
       "         376: 27,\n",
       "         280: 54,\n",
       "         140: 27,\n",
       "         168: 54,\n",
       "         96: 1280,\n",
       "         101: 27,\n",
       "         102: 160,\n",
       "         149: 160,\n",
       "         64: 931,\n",
       "         32: 399,\n",
       "         16: 399,\n",
       "         27: 399,\n",
       "         214: 40,\n",
       "         510: 27})"
      ]
     },
     "execution_count": 10,
     "metadata": {},
     "output_type": "execute_result"
    }
   ],
   "source": [
    "Counter(sequence_train)"
   ]
  }
 ],
 "metadata": {
  "kernelspec": {
   "display_name": "samsung",
   "language": "python",
   "name": "python3"
  },
  "language_info": {
   "codemirror_mode": {
    "name": "ipython",
    "version": 3
   },
   "file_extension": ".py",
   "mimetype": "text/x-python",
   "name": "python",
   "nbconvert_exporter": "python",
   "pygments_lexer": "ipython3",
   "version": "3.8.17"
  },
  "orig_nbformat": 4
 },
 "nbformat": 4,
 "nbformat_minor": 2
}
