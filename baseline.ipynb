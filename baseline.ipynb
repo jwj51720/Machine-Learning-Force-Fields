{
 "cells": [
  {
   "cell_type": "markdown",
   "metadata": {},
   "source": [
    "## Import"
   ]
  },
  {
   "cell_type": "code",
   "execution_count": null,
   "metadata": {},
   "outputs": [],
   "source": [
    "import os, random\n",
    "import numpy as np\n",
    "import pandas as pd\n",
    "\n",
    "from ase.io import read\n",
    "\n",
    "import torch\n",
    "import torch.nn as nn\n",
    "import torch.optim as optim\n",
    "from torch.utils.data import TensorDataset, Dataset, DataLoader\n",
    "\n",
    "from tqdm.auto import tqdm\n",
    "\n",
    "np.set_printoptions(threshold=np.inf)"
   ]
  },
  {
   "cell_type": "code",
   "execution_count": 2,
   "metadata": {},
   "outputs": [],
   "source": [
    "def seed_everything(seed):\n",
    "    random.seed(seed)\n",
    "    np.random.seed(seed)\n",
    "    os.environ[\"PYTHONHASHSEED\"] = str(seed)\n",
    "    torch.manual_seed(seed)\n",
    "\n",
    "seed_everything(42) # Seed 고정"
   ]
  },
  {
   "cell_type": "markdown",
   "metadata": {},
   "source": [
    "## Pre-Processing"
   ]
  },
  {
   "cell_type": "code",
   "execution_count": 3,
   "metadata": {},
   "outputs": [],
   "source": [
    "train = read('./train.xyz', format='extxyz', index=':') # 전체 데이터 불러오기\n",
    "test = read('./test.xyz', format='extxyz', index=':')\n",
    "sample = pd.read_csv('./sample_submission.csv')"
   ]
  },
  {
   "cell_type": "code",
   "execution_count": 4,
   "metadata": {},
   "outputs": [
    {
     "name": "stdout",
     "output_type": "stream",
     "text": [
      "The number of data: 22510\n"
     ]
    },
    {
     "data": {
      "text/plain": [
       "Atoms(symbols='N24Si24', pbc=True, cell=[8.52238831, 8.52238831, 8.52238831], forces=..., calculator=SinglePointCalculator(...))"
      ]
     },
     "execution_count": 4,
     "metadata": {},
     "output_type": "execute_result"
    }
   ],
   "source": [
    "print(f\"The number of data: {len(train)}\")\n",
    "train[0]"
   ]
  },
  {
   "cell_type": "code",
   "execution_count": 5,
   "metadata": {},
   "outputs": [
    {
     "data": {
      "text/html": [
       "<div>\n",
       "<style scoped>\n",
       "    .dataframe tbody tr th:only-of-type {\n",
       "        vertical-align: middle;\n",
       "    }\n",
       "\n",
       "    .dataframe tbody tr th {\n",
       "        vertical-align: top;\n",
       "    }\n",
       "\n",
       "    .dataframe thead th {\n",
       "        text-align: right;\n",
       "    }\n",
       "</style>\n",
       "<table border=\"1\" class=\"dataframe\">\n",
       "  <thead>\n",
       "    <tr style=\"text-align: right;\">\n",
       "      <th></th>\n",
       "      <th>position_x</th>\n",
       "      <th>position_y</th>\n",
       "      <th>position_z</th>\n",
       "      <th>force</th>\n",
       "    </tr>\n",
       "  </thead>\n",
       "  <tbody>\n",
       "    <tr>\n",
       "      <th>0</th>\n",
       "      <td>1.591737</td>\n",
       "      <td>4.200483</td>\n",
       "      <td>7.832245</td>\n",
       "      <td>[-1.9364797, -2.75540073, 0.90898967]</td>\n",
       "    </tr>\n",
       "    <tr>\n",
       "      <th>1</th>\n",
       "      <td>5.640802</td>\n",
       "      <td>2.305094</td>\n",
       "      <td>4.606757</td>\n",
       "      <td>[1.77046974, -0.17350153, -1.99398617]</td>\n",
       "    </tr>\n",
       "    <tr>\n",
       "      <th>2</th>\n",
       "      <td>6.672786</td>\n",
       "      <td>8.483263</td>\n",
       "      <td>2.981881</td>\n",
       "      <td>[-2.05488716, -0.29381591, -0.89173793]</td>\n",
       "    </tr>\n",
       "    <tr>\n",
       "      <th>3</th>\n",
       "      <td>1.908548</td>\n",
       "      <td>0.147931</td>\n",
       "      <td>1.741693</td>\n",
       "      <td>[-0.89207197, -0.8143158, -1.36426899]</td>\n",
       "    </tr>\n",
       "    <tr>\n",
       "      <th>4</th>\n",
       "      <td>4.375650</td>\n",
       "      <td>6.837884</td>\n",
       "      <td>1.948188</td>\n",
       "      <td>[-4.65938123, -0.77685475, -3.07403915]</td>\n",
       "    </tr>\n",
       "  </tbody>\n",
       "</table>\n",
       "</div>"
      ],
      "text/plain": [
       "   position_x  position_y  position_z                                    force\n",
       "0    1.591737    4.200483    7.832245    [-1.9364797, -2.75540073, 0.90898967]\n",
       "1    5.640802    2.305094    4.606757   [1.77046974, -0.17350153, -1.99398617]\n",
       "2    6.672786    8.483263    2.981881  [-2.05488716, -0.29381591, -0.89173793]\n",
       "3    1.908548    0.147931    1.741693   [-0.89207197, -0.8143158, -1.36426899]\n",
       "4    4.375650    6.837884    1.948188  [-4.65938123, -0.77685475, -3.07403915]"
      ]
     },
     "execution_count": 5,
     "metadata": {},
     "output_type": "execute_result"
    }
   ],
   "source": [
    "sequence_train, symbols, positions_x, positions_y, positions_z, forces, energies = [], [], [], [], [], [], []\n",
    "\n",
    "for i in range(len(train)):\n",
    "    mole = train[i] # 각 분자\n",
    "    \n",
    "    atoms = len(mole) # 원자 개수\n",
    "    sequence_train.append(atoms)\n",
    "    \n",
    "    position = mole.get_positions() # 원자 위치 정보\n",
    "    force = mole.get_forces() # label 1\n",
    "    \n",
    "    energy = mole.get_total_energy() # label 2\n",
    "    energies.append(energy)\n",
    "    \n",
    "    for j in range(len(mole)): # 각 원자에 대해\n",
    "        atom = mole[j]\n",
    "        \n",
    "        positions_x.append(position[j][0])\n",
    "        positions_y.append(position[j][1])\n",
    "        positions_z.append(position[j][2])\n",
    "        forces.append(force[j])\n",
    "        \n",
    "train_df = pd.DataFrame({'position_x': positions_x, 'position_y':positions_y, 'position_z':positions_z, 'force':forces})        \n",
    "train_df.head()"
   ]
  },
  {
   "cell_type": "code",
   "execution_count": 6,
   "metadata": {},
   "outputs": [
    {
     "data": {
      "text/html": [
       "<div>\n",
       "<style scoped>\n",
       "    .dataframe tbody tr th:only-of-type {\n",
       "        vertical-align: middle;\n",
       "    }\n",
       "\n",
       "    .dataframe tbody tr th {\n",
       "        vertical-align: top;\n",
       "    }\n",
       "\n",
       "    .dataframe thead th {\n",
       "        text-align: right;\n",
       "    }\n",
       "</style>\n",
       "<table border=\"1\" class=\"dataframe\">\n",
       "  <thead>\n",
       "    <tr style=\"text-align: right;\">\n",
       "      <th></th>\n",
       "      <th>position_x</th>\n",
       "      <th>position_y</th>\n",
       "      <th>position_z</th>\n",
       "      <th>force</th>\n",
       "    </tr>\n",
       "  </thead>\n",
       "  <tbody>\n",
       "    <tr>\n",
       "      <th>0</th>\n",
       "      <td>9.671275</td>\n",
       "      <td>8.734431</td>\n",
       "      <td>6.151755</td>\n",
       "      <td>None</td>\n",
       "    </tr>\n",
       "    <tr>\n",
       "      <th>1</th>\n",
       "      <td>1.676806</td>\n",
       "      <td>2.238918</td>\n",
       "      <td>5.270450</td>\n",
       "      <td>None</td>\n",
       "    </tr>\n",
       "    <tr>\n",
       "      <th>2</th>\n",
       "      <td>10.358608</td>\n",
       "      <td>4.824889</td>\n",
       "      <td>9.174357</td>\n",
       "      <td>None</td>\n",
       "    </tr>\n",
       "    <tr>\n",
       "      <th>3</th>\n",
       "      <td>4.370620</td>\n",
       "      <td>5.391541</td>\n",
       "      <td>9.812298</td>\n",
       "      <td>None</td>\n",
       "    </tr>\n",
       "    <tr>\n",
       "      <th>4</th>\n",
       "      <td>2.453404</td>\n",
       "      <td>10.449967</td>\n",
       "      <td>9.906622</td>\n",
       "      <td>None</td>\n",
       "    </tr>\n",
       "  </tbody>\n",
       "</table>\n",
       "</div>"
      ],
      "text/plain": [
       "   position_x  position_y  position_z force\n",
       "0    9.671275    8.734431    6.151755  None\n",
       "1    1.676806    2.238918    5.270450  None\n",
       "2   10.358608    4.824889    9.174357  None\n",
       "3    4.370620    5.391541    9.812298  None\n",
       "4    2.453404   10.449967    9.906622  None"
      ]
     },
     "execution_count": 6,
     "metadata": {},
     "output_type": "execute_result"
    }
   ],
   "source": [
    "sequence_test, positions_x, positions_y, positions_z = [], [], [], []\n",
    "\n",
    "for i in range(len(test)):\n",
    "    mole = test[i] # 각 분자\n",
    "    \n",
    "    atoms = len(mole) # 원자 개수\n",
    "    sequence_test.append(atoms)\n",
    "    \n",
    "    position = mole.get_positions() # 원자 위치 정보\n",
    "    \n",
    "    for j in range(len(mole)): # 각 원자에 대해\n",
    "        atom = mole[j]\n",
    "        \n",
    "        positions_x.append(position[j][0])\n",
    "        positions_y.append(position[j][1])\n",
    "        positions_z.append(position[j][2])\n",
    "        \n",
    "test_df = pd.DataFrame({'position_x': positions_x, 'position_y':positions_y, 'position_z':positions_z, 'force':None})        \n",
    "test_df.head()"
   ]
  },
  {
   "cell_type": "markdown",
   "metadata": {},
   "source": [
    "## [Force] Hyperparameter Setting"
   ]
  },
  {
   "cell_type": "code",
   "execution_count": 7,
   "metadata": {},
   "outputs": [],
   "source": [
    "# 하이퍼파라미터\n",
    "input_size = 3  # feature 개수\n",
    "hidden_size = 256\n",
    "output_size = 3 # target 개수\n",
    "num_epochs = 3\n",
    "batch_size = 256\n",
    "learning_rate = 0.001"
   ]
  },
  {
   "cell_type": "markdown",
   "metadata": {},
   "source": [
    "## [Force] Dataset"
   ]
  },
  {
   "cell_type": "code",
   "execution_count": 8,
   "metadata": {},
   "outputs": [],
   "source": [
    "class ForceDataset(Dataset):\n",
    "    def __init__(self, df, mode='test'):\n",
    "        self.df = df\n",
    "        self.mode = mode\n",
    "    \n",
    "    def __len__(self):\n",
    "        return len(self.df)\n",
    "    \n",
    "    def __getitem__(self, idx):\n",
    "        \n",
    "        pos_x = self.df.loc[idx, 'position_x']\n",
    "        pos_y = self.df.loc[idx, 'position_y']\n",
    "        pos_z = self.df.loc[idx, 'position_z']\n",
    "        \n",
    "        inputs = torch.tensor([pos_x, pos_y, pos_z], dtype=torch.float32)\n",
    "        \n",
    "        if not self.mode == 'test':\n",
    "            label = torch.tensor(self.df.loc[idx, 'force'], dtype=torch.float32)\n",
    "            return inputs, label\n",
    "        else:\n",
    "            return inputs"
   ]
  },
  {
   "cell_type": "code",
   "execution_count": 9,
   "metadata": {},
   "outputs": [],
   "source": [
    "train_dataset = ForceDataset(train_df, 'train')\n",
    "test_dataset = ForceDataset(test_df, 'test')\n",
    "\n",
    "train_loader = DataLoader(train_dataset, batch_size=batch_size, shuffle=True)\n",
    "test_loader = DataLoader(test_dataset, batch_size=batch_size, shuffle=False)"
   ]
  },
  {
   "cell_type": "markdown",
   "metadata": {},
   "source": [
    "## [Force] Model"
   ]
  },
  {
   "cell_type": "code",
   "execution_count": 10,
   "metadata": {},
   "outputs": [],
   "source": [
    "class ForceModel(nn.Module):\n",
    "    def __init__(self, input_size, hidden_size):\n",
    "        super(ForceModel, self).__init__()\n",
    "        \n",
    "        self.layers = nn.Sequential(\n",
    "            nn.Linear(input_size, hidden_size),\n",
    "            nn.BatchNorm1d(hidden_size),\n",
    "            nn.ReLU(),\n",
    "            nn.Dropout(0.5),\n",
    "            \n",
    "            nn.Linear(hidden_size, 128),\n",
    "            nn.BatchNorm1d(128),\n",
    "            nn.LeakyReLU(0.01),\n",
    "            nn.Dropout(0.5),\n",
    "            \n",
    "            nn.Linear(128, 64),\n",
    "            nn.BatchNorm1d(64),\n",
    "            nn.ReLU(),\n",
    "            nn.Dropout(0.5),\n",
    "            \n",
    "            nn.Linear(64, 3)\n",
    "        )\n",
    "    \n",
    "    def forward(self, x):\n",
    "        y = self.layers(x)\n",
    "        \n",
    "        return y"
   ]
  },
  {
   "cell_type": "code",
   "execution_count": 11,
   "metadata": {},
   "outputs": [
    {
     "name": "stdout",
     "output_type": "stream",
     "text": [
      "current device is cuda\n"
     ]
    }
   ],
   "source": [
    "device = 'cuda' if torch.cuda.is_available() else 'cpu'\n",
    "print(f\"current device is {device}\")\n",
    "\n",
    "model = ForceModel(input_size, hidden_size).to(device)\n",
    "criterion = nn.MSELoss()\n",
    "optimizer = optim.Adam(model.parameters(), lr=learning_rate)"
   ]
  },
  {
   "cell_type": "markdown",
   "metadata": {},
   "source": [
    "## [Force] Train"
   ]
  },
  {
   "cell_type": "code",
   "execution_count": 12,
   "metadata": {},
   "outputs": [
    {
     "name": "stdout",
     "output_type": "stream",
     "text": [
      "Training Start!\n",
      "1/3 epoch..\n"
     ]
    },
    {
     "name": "stderr",
     "output_type": "stream",
     "text": [
      "100%|██████████| 5020/5020 [01:18<00:00, 64.02it/s]\n"
     ]
    },
    {
     "name": "stdout",
     "output_type": "stream",
     "text": [
      "2/3 epoch..\n"
     ]
    },
    {
     "name": "stderr",
     "output_type": "stream",
     "text": [
      "100%|██████████| 5020/5020 [00:57<00:00, 86.83it/s]\n"
     ]
    },
    {
     "name": "stdout",
     "output_type": "stream",
     "text": [
      "3/3 epoch..\n"
     ]
    },
    {
     "name": "stderr",
     "output_type": "stream",
     "text": [
      "100%|██████████| 5020/5020 [00:57<00:00, 88.05it/s]"
     ]
    },
    {
     "name": "stdout",
     "output_type": "stream",
     "text": [
      "Training Complete!\n"
     ]
    },
    {
     "name": "stderr",
     "output_type": "stream",
     "text": [
      "\n"
     ]
    }
   ],
   "source": [
    "print(\"Training Start!\")\n",
    "\n",
    "model.train()\n",
    "for epoch in range(num_epochs):\n",
    "    print(f\"{epoch+1}/{num_epochs} epoch..\")\n",
    "    for inputs, labels in tqdm(train_loader):\n",
    "        optimizer.zero_grad()\n",
    "        \n",
    "        inputs = inputs.to(device)\n",
    "        labels = labels.to(device)\n",
    "        \n",
    "        outputs = model(inputs)\n",
    "        loss = criterion(outputs, labels)\n",
    "        \n",
    "        loss.backward()\n",
    "        optimizer.step()\n",
    "        \n",
    "print(\"Training Complete!\")        "
   ]
  },
  {
   "cell_type": "markdown",
   "metadata": {},
   "source": [
    "## [Force] Inference"
   ]
  },
  {
   "cell_type": "code",
   "execution_count": 13,
   "metadata": {},
   "outputs": [
    {
     "name": "stdout",
     "output_type": "stream",
     "text": [
      "Inference Start!\n"
     ]
    },
    {
     "name": "stderr",
     "output_type": "stream",
     "text": [
      "100%|██████████| 1154/1154 [00:06<00:00, 190.91it/s]"
     ]
    },
    {
     "name": "stdout",
     "output_type": "stream",
     "text": [
      "Inference Complete!\n"
     ]
    },
    {
     "name": "stderr",
     "output_type": "stream",
     "text": [
      "\n"
     ]
    },
    {
     "data": {
      "text/plain": [
       "295234"
      ]
     },
     "execution_count": 13,
     "metadata": {},
     "output_type": "execute_result"
    }
   ],
   "source": [
    "print(\"Inference Start!\")\n",
    "\n",
    "model.eval()\n",
    "\n",
    "preds = []\n",
    "with torch.no_grad():\n",
    "    for inputs in tqdm(test_loader):\n",
    "        inputs = inputs.to(device)\n",
    "        outputs = model(inputs)\n",
    "        \n",
    "        pred = outputs.detach().cpu().numpy()\n",
    "        preds.extend(pred)\n",
    "\n",
    "print(\"Inference Complete!\")\n",
    "len(preds)"
   ]
  },
  {
   "cell_type": "markdown",
   "metadata": {},
   "source": [
    "## [Force] Submission"
   ]
  },
  {
   "cell_type": "code",
   "execution_count": 14,
   "metadata": {},
   "outputs": [],
   "source": [
    "test_df['force'] = preds # 예측 결과 저장"
   ]
  },
  {
   "cell_type": "code",
   "execution_count": 15,
   "metadata": {},
   "outputs": [],
   "source": [
    "# 한 분자가 몇 개의 원자로 이루어져 있는지에 따라 범위를 생성\n",
    "bundles_train, bundles_test = [], []\n",
    "\n",
    "flag = 0\n",
    "for size in sequence_train:\n",
    "    bundles_train.append((flag, flag+size))\n",
    "    flag += size\n",
    "\n",
    "flag = 0\n",
    "for size in sequence_test:\n",
    "    bundles_test.append((flag, flag+size))\n",
    "    flag += size    "
   ]
  },
  {
   "cell_type": "code",
   "execution_count": 16,
   "metadata": {},
   "outputs": [
    {
     "data": {
      "text/html": [
       "<div>\n",
       "<style scoped>\n",
       "    .dataframe tbody tr th:only-of-type {\n",
       "        vertical-align: middle;\n",
       "    }\n",
       "\n",
       "    .dataframe tbody tr th {\n",
       "        vertical-align: top;\n",
       "    }\n",
       "\n",
       "    .dataframe thead th {\n",
       "        text-align: right;\n",
       "    }\n",
       "</style>\n",
       "<table border=\"1\" class=\"dataframe\">\n",
       "  <thead>\n",
       "    <tr style=\"text-align: right;\">\n",
       "      <th></th>\n",
       "      <th>ID</th>\n",
       "      <th>energy</th>\n",
       "      <th>force</th>\n",
       "    </tr>\n",
       "  </thead>\n",
       "  <tbody>\n",
       "    <tr>\n",
       "      <th>0</th>\n",
       "      <td>TEST_0000</td>\n",
       "      <td>0</td>\n",
       "      <td>[[0.00852358, 0.004790641, 0.00026761368], [0....</td>\n",
       "    </tr>\n",
       "    <tr>\n",
       "      <th>1</th>\n",
       "      <td>TEST_0001</td>\n",
       "      <td>0</td>\n",
       "      <td>[[0.008528535, 0.003925374, 0.0015593885], [0....</td>\n",
       "    </tr>\n",
       "    <tr>\n",
       "      <th>2</th>\n",
       "      <td>TEST_0002</td>\n",
       "      <td>0</td>\n",
       "      <td>[[0.008528535, 0.003925374, 0.0015593885], [0....</td>\n",
       "    </tr>\n",
       "    <tr>\n",
       "      <th>3</th>\n",
       "      <td>TEST_0003</td>\n",
       "      <td>0</td>\n",
       "      <td>[[0.008525672, 0.004425193, 0.0008131983], [0....</td>\n",
       "    </tr>\n",
       "    <tr>\n",
       "      <th>4</th>\n",
       "      <td>TEST_0004</td>\n",
       "      <td>0</td>\n",
       "      <td>[[0.008522416, 0.0049937684, -3.5639503e-05], ...</td>\n",
       "    </tr>\n",
       "    <tr>\n",
       "      <th>...</th>\n",
       "      <td>...</td>\n",
       "      <td>...</td>\n",
       "      <td>...</td>\n",
       "    </tr>\n",
       "    <tr>\n",
       "      <th>4096</th>\n",
       "      <td>TEST_4096</td>\n",
       "      <td>0</td>\n",
       "      <td>[[0.008237457, 0.0040524383, 0.0022960037], [0...</td>\n",
       "    </tr>\n",
       "    <tr>\n",
       "      <th>4097</th>\n",
       "      <td>TEST_4097</td>\n",
       "      <td>0</td>\n",
       "      <td>[[0.008528535, 0.003925374, 0.0015593885], [0....</td>\n",
       "    </tr>\n",
       "    <tr>\n",
       "      <th>4098</th>\n",
       "      <td>TEST_4098</td>\n",
       "      <td>0</td>\n",
       "      <td>[[0.008528535, 0.003925374, 0.0015593885], [0....</td>\n",
       "    </tr>\n",
       "    <tr>\n",
       "      <th>4099</th>\n",
       "      <td>TEST_4099</td>\n",
       "      <td>0</td>\n",
       "      <td>[[0.008528535, 0.003925374, 0.0015593885], [0....</td>\n",
       "    </tr>\n",
       "    <tr>\n",
       "      <th>4100</th>\n",
       "      <td>TEST_4100</td>\n",
       "      <td>0</td>\n",
       "      <td>[[0.00817122, 0.0041582687, 0.0024581514], [0....</td>\n",
       "    </tr>\n",
       "  </tbody>\n",
       "</table>\n",
       "<p>4101 rows × 3 columns</p>\n",
       "</div>"
      ],
      "text/plain": [
       "             ID  energy                                              force\n",
       "0     TEST_0000       0  [[0.00852358, 0.004790641, 0.00026761368], [0....\n",
       "1     TEST_0001       0  [[0.008528535, 0.003925374, 0.0015593885], [0....\n",
       "2     TEST_0002       0  [[0.008528535, 0.003925374, 0.0015593885], [0....\n",
       "3     TEST_0003       0  [[0.008525672, 0.004425193, 0.0008131983], [0....\n",
       "4     TEST_0004       0  [[0.008522416, 0.0049937684, -3.5639503e-05], ...\n",
       "...         ...     ...                                                ...\n",
       "4096  TEST_4096       0  [[0.008237457, 0.0040524383, 0.0022960037], [0...\n",
       "4097  TEST_4097       0  [[0.008528535, 0.003925374, 0.0015593885], [0....\n",
       "4098  TEST_4098       0  [[0.008528535, 0.003925374, 0.0015593885], [0....\n",
       "4099  TEST_4099       0  [[0.008528535, 0.003925374, 0.0015593885], [0....\n",
       "4100  TEST_4100       0  [[0.00817122, 0.0041582687, 0.0024581514], [0....\n",
       "\n",
       "[4101 rows x 3 columns]"
      ]
     },
     "execution_count": 16,
     "metadata": {},
     "output_type": "execute_result"
    }
   ],
   "source": [
    "preds_force = []\n",
    "\n",
    "for start, end in bundles_test:\n",
    "    preds_force.append(np.vstack(preds[start:end])) # 2차원 array로 저장\n",
    "\n",
    "sample['force'] = preds_force\n",
    "sample"
   ]
  },
  {
   "cell_type": "markdown",
   "metadata": {},
   "source": [
    "## [Energy] Preprocessing"
   ]
  },
  {
   "cell_type": "code",
   "execution_count": 17,
   "metadata": {},
   "outputs": [
    {
     "data": {
      "text/html": [
       "<div>\n",
       "<style scoped>\n",
       "    .dataframe tbody tr th:only-of-type {\n",
       "        vertical-align: middle;\n",
       "    }\n",
       "\n",
       "    .dataframe tbody tr th {\n",
       "        vertical-align: top;\n",
       "    }\n",
       "\n",
       "    .dataframe thead th {\n",
       "        text-align: right;\n",
       "    }\n",
       "</style>\n",
       "<table border=\"1\" class=\"dataframe\">\n",
       "  <thead>\n",
       "    <tr style=\"text-align: right;\">\n",
       "      <th></th>\n",
       "      <th>position_x</th>\n",
       "      <th>position_y</th>\n",
       "      <th>position_z</th>\n",
       "      <th>force_0</th>\n",
       "      <th>force_1</th>\n",
       "      <th>force_2</th>\n",
       "    </tr>\n",
       "  </thead>\n",
       "  <tbody>\n",
       "    <tr>\n",
       "      <th>0</th>\n",
       "      <td>9.671275</td>\n",
       "      <td>8.734431</td>\n",
       "      <td>6.151755</td>\n",
       "      <td>0.008524</td>\n",
       "      <td>0.004791</td>\n",
       "      <td>0.000268</td>\n",
       "    </tr>\n",
       "    <tr>\n",
       "      <th>1</th>\n",
       "      <td>1.676806</td>\n",
       "      <td>2.238918</td>\n",
       "      <td>5.270450</td>\n",
       "      <td>0.009385</td>\n",
       "      <td>0.004395</td>\n",
       "      <td>-0.000745</td>\n",
       "    </tr>\n",
       "    <tr>\n",
       "      <th>2</th>\n",
       "      <td>10.358608</td>\n",
       "      <td>4.824889</td>\n",
       "      <td>9.174357</td>\n",
       "      <td>0.010001</td>\n",
       "      <td>0.003093</td>\n",
       "      <td>-0.001962</td>\n",
       "    </tr>\n",
       "    <tr>\n",
       "      <th>3</th>\n",
       "      <td>4.370620</td>\n",
       "      <td>5.391541</td>\n",
       "      <td>9.812298</td>\n",
       "      <td>0.010793</td>\n",
       "      <td>0.006565</td>\n",
       "      <td>-0.007119</td>\n",
       "    </tr>\n",
       "    <tr>\n",
       "      <th>4</th>\n",
       "      <td>2.453404</td>\n",
       "      <td>10.449967</td>\n",
       "      <td>9.906622</td>\n",
       "      <td>0.008954</td>\n",
       "      <td>0.019782</td>\n",
       "      <td>-0.023570</td>\n",
       "    </tr>\n",
       "  </tbody>\n",
       "</table>\n",
       "</div>"
      ],
      "text/plain": [
       "   position_x  position_y  position_z   force_0   force_1   force_2\n",
       "0    9.671275    8.734431    6.151755  0.008524  0.004791  0.000268\n",
       "1    1.676806    2.238918    5.270450  0.009385  0.004395 -0.000745\n",
       "2   10.358608    4.824889    9.174357  0.010001  0.003093 -0.001962\n",
       "3    4.370620    5.391541    9.812298  0.010793  0.006565 -0.007119\n",
       "4    2.453404   10.449967    9.906622  0.008954  0.019782 -0.023570"
      ]
     },
     "execution_count": 17,
     "metadata": {},
     "output_type": "execute_result"
    }
   ],
   "source": [
    "# 'force' 컬럼의 값을 분해하여 각각의 행으로 만듦\n",
    "force_df = train_df['force'].apply(pd.Series)\n",
    "force_df.columns = [f'force_{i}' for i in range(3)]\n",
    "\n",
    "# 분해한 'force' 컬럼을 추가\n",
    "train_df = train_df.drop('force', axis=1).join(force_df)\n",
    "\n",
    "# 'force' 컬럼의 값을 분해하여 각각의 행으로 만듦\n",
    "force_df = test_df['force'].apply(pd.Series)\n",
    "force_df.columns = [f'force_{i}' for i in range(3)]\n",
    "\n",
    "# 분해한 'force' 컬럼을 추가\n",
    "test_df = test_df.drop('force', axis=1).join(force_df)\n",
    "test_df.head()"
   ]
  },
  {
   "cell_type": "code",
   "execution_count": 18,
   "metadata": {},
   "outputs": [],
   "source": [
    "# 데이터프레임에서 값 추출\n",
    "sequences_train = [train_df.iloc[start:end].values for start, end in bundles_train]\n",
    "sequences_test = [test_df.iloc[start:end].values for start, end in bundles_test]"
   ]
  },
  {
   "cell_type": "markdown",
   "metadata": {},
   "source": [
    "## [Energy] Hyperparameter Setting"
   ]
  },
  {
   "cell_type": "code",
   "execution_count": 19,
   "metadata": {},
   "outputs": [],
   "source": [
    "input_size = 6  # feature 개수\n",
    "hidden_size = 256\n",
    "output_size = 1 # target 개수\n",
    "num_epochs = 1\n",
    "batch_size = 64\n",
    "learning_rate = 0.001"
   ]
  },
  {
   "cell_type": "markdown",
   "metadata": {},
   "source": [
    "## [Energy] Dataset"
   ]
  },
  {
   "cell_type": "code",
   "execution_count": 20,
   "metadata": {},
   "outputs": [],
   "source": [
    "# 패딩을 사용하여 모든 시퀀스의 길이를 동일하게 만듦\n",
    "max_len = max(seq.shape[0] for seq in sequences_train)\n",
    "padded_sequences = [np.vstack([seq, np.zeros((max_len - seq.shape[0], 6))]) for seq in sequences_train]\n",
    "\n",
    "# 패딩된 시퀀스를 2차원 배열로 변환\n",
    "padded_array_train = np.stack(padded_sequences)\n",
    "X_tensor_train = torch.tensor(padded_array_train, dtype=torch.float32)\n",
    "y_tensor_train = torch.tensor(energies, dtype=torch.float32).view(-1, 1)\n",
    "train_dataset = TensorDataset(X_tensor_train, y_tensor_train)\n",
    "train_loader = DataLoader(train_dataset, batch_size=batch_size, shuffle=True)\n",
    "\n",
    "# 패딩을 사용하여 모든 시퀀스의 길이를 동일하게 만듦\n",
    "max_len = max(seq.shape[0] for seq in sequences_test)\n",
    "padded_sequences = [np.vstack([seq, np.zeros((max_len - seq.shape[0], 6))]) for seq in sequences_test]\n",
    "\n",
    "# 패딩된 시퀀스를 2차원 배열로 변환\n",
    "padded_array_test = np.stack(padded_sequences)\n",
    "X_tensor_test = torch.tensor(padded_array_test, dtype=torch.float32)\n",
    "test_dataset = TensorDataset(X_tensor_test)\n",
    "test_loader = DataLoader(test_dataset, batch_size=batch_size, shuffle=False)"
   ]
  },
  {
   "cell_type": "markdown",
   "metadata": {},
   "source": [
    "## [Energy] Model"
   ]
  },
  {
   "cell_type": "code",
   "execution_count": 21,
   "metadata": {},
   "outputs": [],
   "source": [
    "# BiLSTM 모델 정의\n",
    "class EnergyModel(nn.Module):\n",
    "    def __init__(self, input_size, hidden_size, num_layers=1, dropout_rate=0.5):\n",
    "        super(EnergyModel, self).__init__()\n",
    "        \n",
    "        # Bidirectional LSTM with Dropout\n",
    "        self.lstm = nn.LSTM(input_size, hidden_size, num_layers, \n",
    "                            batch_first=True, \n",
    "                            dropout=dropout_rate,\n",
    "                            bidirectional=True)\n",
    "        \n",
    "        # Bidirectional LSTM이므로 hidden_size 조정\n",
    "        self.linear = nn.Sequential(\n",
    "            nn.Linear(hidden_size * 2, hidden_size),\n",
    "            nn.ReLU(),\n",
    "            nn.BatchNorm1d(hidden_size),\n",
    "            nn.Dropout(dropout_rate),\n",
    "            nn.Linear(hidden_size, 1)\n",
    "        )\n",
    "        \n",
    "    def forward(self, x):\n",
    "        lstm_out, _ = self.lstm(x)\n",
    "        energy = self.linear(lstm_out[:, -1, :])\n",
    "        return energy"
   ]
  },
  {
   "cell_type": "code",
   "execution_count": null,
   "metadata": {},
   "outputs": [],
   "source": [
    "# 모델, 손실 함수, 옵티마이저 초기화\n",
    "model = EnergyModel(input_size, hidden_size).to(device)\n",
    "criterion = nn.MSELoss()\n",
    "optimizer = optim.Adam(model.parameters(), lr=learning_rate)"
   ]
  },
  {
   "cell_type": "markdown",
   "metadata": {},
   "source": [
    "## [Energy] Train"
   ]
  },
  {
   "cell_type": "code",
   "execution_count": 23,
   "metadata": {},
   "outputs": [
    {
     "name": "stdout",
     "output_type": "stream",
     "text": [
      "Training Start!!\n",
      "1/1 epoch..\n"
     ]
    },
    {
     "name": "stderr",
     "output_type": "stream",
     "text": [
      "100%|██████████| 352/352 [00:17<00:00, 20.69it/s]"
     ]
    },
    {
     "name": "stdout",
     "output_type": "stream",
     "text": [
      "Training Complete!\n"
     ]
    },
    {
     "name": "stderr",
     "output_type": "stream",
     "text": [
      "\n"
     ]
    }
   ],
   "source": [
    "print(\"Training Start!!\")\n",
    "\n",
    "# 학습\n",
    "model.train()\n",
    "for epoch in range(num_epochs):\n",
    "    print(f\"{epoch+1}/{num_epochs} epoch..\")    \n",
    "    for inputs, labels in tqdm(train_loader):\n",
    "        inputs = inputs.to(device)\n",
    "        labels = labels.to(device)\n",
    "        \n",
    "        optimizer.zero_grad()\n",
    "        \n",
    "        outputs = model(inputs)\n",
    "        loss = criterion(outputs, labels)\n",
    "        \n",
    "        loss.backward()\n",
    "        optimizer.step()\n",
    "        \n",
    "print(\"Training Complete!\")        "
   ]
  },
  {
   "cell_type": "markdown",
   "metadata": {},
   "source": [
    "## [Energy] Inference"
   ]
  },
  {
   "cell_type": "code",
   "execution_count": 24,
   "metadata": {},
   "outputs": [
    {
     "name": "stdout",
     "output_type": "stream",
     "text": [
      "Inference Start!\n"
     ]
    },
    {
     "name": "stderr",
     "output_type": "stream",
     "text": [
      "100%|██████████| 65/65 [00:00<00:00, 107.76it/s]"
     ]
    },
    {
     "name": "stdout",
     "output_type": "stream",
     "text": [
      "Inference Complete!\n"
     ]
    },
    {
     "name": "stderr",
     "output_type": "stream",
     "text": [
      "\n"
     ]
    },
    {
     "data": {
      "text/plain": [
       "4101"
      ]
     },
     "execution_count": 24,
     "metadata": {},
     "output_type": "execute_result"
    }
   ],
   "source": [
    "print(\"Inference Start!\")\n",
    "\n",
    "model.eval()\n",
    "\n",
    "preds = []\n",
    "with torch.no_grad():\n",
    "    for inputs in tqdm(test_loader):\n",
    "        inputs = inputs[0].to(device)\n",
    "\n",
    "        outputs = model(inputs)\n",
    "        pred = outputs.detach().cpu().numpy()\n",
    "\n",
    "        preds.extend(pred)\n",
    "\n",
    "print(\"Inference Complete!\")        \n",
    "len(preds)        "
   ]
  },
  {
   "cell_type": "markdown",
   "metadata": {},
   "source": [
    "## [Energy] Submission"
   ]
  },
  {
   "cell_type": "code",
   "execution_count": 25,
   "metadata": {},
   "outputs": [
    {
     "data": {
      "text/html": [
       "<div>\n",
       "<style scoped>\n",
       "    .dataframe tbody tr th:only-of-type {\n",
       "        vertical-align: middle;\n",
       "    }\n",
       "\n",
       "    .dataframe tbody tr th {\n",
       "        vertical-align: top;\n",
       "    }\n",
       "\n",
       "    .dataframe thead th {\n",
       "        text-align: right;\n",
       "    }\n",
       "</style>\n",
       "<table border=\"1\" class=\"dataframe\">\n",
       "  <thead>\n",
       "    <tr style=\"text-align: right;\">\n",
       "      <th></th>\n",
       "      <th>ID</th>\n",
       "      <th>energy</th>\n",
       "      <th>force</th>\n",
       "    </tr>\n",
       "  </thead>\n",
       "  <tbody>\n",
       "    <tr>\n",
       "      <th>0</th>\n",
       "      <td>TEST_0000</td>\n",
       "      <td>-43.936798</td>\n",
       "      <td>[[0.00852358, 0.004790641, 0.00026761368], [0....</td>\n",
       "    </tr>\n",
       "    <tr>\n",
       "      <th>1</th>\n",
       "      <td>TEST_0001</td>\n",
       "      <td>-43.936798</td>\n",
       "      <td>[[0.008528535, 0.003925374, 0.0015593885], [0....</td>\n",
       "    </tr>\n",
       "    <tr>\n",
       "      <th>2</th>\n",
       "      <td>TEST_0002</td>\n",
       "      <td>-43.936798</td>\n",
       "      <td>[[0.008528535, 0.003925374, 0.0015593885], [0....</td>\n",
       "    </tr>\n",
       "    <tr>\n",
       "      <th>3</th>\n",
       "      <td>TEST_0003</td>\n",
       "      <td>-43.936810</td>\n",
       "      <td>[[0.008525672, 0.004425193, 0.0008131983], [0....</td>\n",
       "    </tr>\n",
       "    <tr>\n",
       "      <th>4</th>\n",
       "      <td>TEST_0004</td>\n",
       "      <td>-43.936821</td>\n",
       "      <td>[[0.008522416, 0.0049937684, -3.5639503e-05], ...</td>\n",
       "    </tr>\n",
       "    <tr>\n",
       "      <th>...</th>\n",
       "      <td>...</td>\n",
       "      <td>...</td>\n",
       "      <td>...</td>\n",
       "    </tr>\n",
       "    <tr>\n",
       "      <th>4096</th>\n",
       "      <td>TEST_4096</td>\n",
       "      <td>-43.936844</td>\n",
       "      <td>[[0.008237457, 0.0040524383, 0.0022960037], [0...</td>\n",
       "    </tr>\n",
       "    <tr>\n",
       "      <th>4097</th>\n",
       "      <td>TEST_4097</td>\n",
       "      <td>-43.936844</td>\n",
       "      <td>[[0.008528535, 0.003925374, 0.0015593885], [0....</td>\n",
       "    </tr>\n",
       "    <tr>\n",
       "      <th>4098</th>\n",
       "      <td>TEST_4098</td>\n",
       "      <td>-43.936844</td>\n",
       "      <td>[[0.008528535, 0.003925374, 0.0015593885], [0....</td>\n",
       "    </tr>\n",
       "    <tr>\n",
       "      <th>4099</th>\n",
       "      <td>TEST_4099</td>\n",
       "      <td>-43.936829</td>\n",
       "      <td>[[0.008528535, 0.003925374, 0.0015593885], [0....</td>\n",
       "    </tr>\n",
       "    <tr>\n",
       "      <th>4100</th>\n",
       "      <td>TEST_4100</td>\n",
       "      <td>-43.936829</td>\n",
       "      <td>[[0.00817122, 0.0041582687, 0.0024581514], [0....</td>\n",
       "    </tr>\n",
       "  </tbody>\n",
       "</table>\n",
       "<p>4101 rows × 3 columns</p>\n",
       "</div>"
      ],
      "text/plain": [
       "             ID     energy                                              force\n",
       "0     TEST_0000 -43.936798  [[0.00852358, 0.004790641, 0.00026761368], [0....\n",
       "1     TEST_0001 -43.936798  [[0.008528535, 0.003925374, 0.0015593885], [0....\n",
       "2     TEST_0002 -43.936798  [[0.008528535, 0.003925374, 0.0015593885], [0....\n",
       "3     TEST_0003 -43.936810  [[0.008525672, 0.004425193, 0.0008131983], [0....\n",
       "4     TEST_0004 -43.936821  [[0.008522416, 0.0049937684, -3.5639503e-05], ...\n",
       "...         ...        ...                                                ...\n",
       "4096  TEST_4096 -43.936844  [[0.008237457, 0.0040524383, 0.0022960037], [0...\n",
       "4097  TEST_4097 -43.936844  [[0.008528535, 0.003925374, 0.0015593885], [0....\n",
       "4098  TEST_4098 -43.936844  [[0.008528535, 0.003925374, 0.0015593885], [0....\n",
       "4099  TEST_4099 -43.936829  [[0.008528535, 0.003925374, 0.0015593885], [0....\n",
       "4100  TEST_4100 -43.936829  [[0.00817122, 0.0041582687, 0.0024581514], [0....\n",
       "\n",
       "[4101 rows x 3 columns]"
      ]
     },
     "execution_count": 25,
     "metadata": {},
     "output_type": "execute_result"
    }
   ],
   "source": [
    "preds = [pred.item() for pred in preds]\n",
    "sample['energy'] = preds\n",
    "sample"
   ]
  },
  {
   "cell_type": "code",
   "execution_count": 26,
   "metadata": {},
   "outputs": [],
   "source": [
    "sample.to_csv('baseline_submission.csv', index=False)"
   ]
  }
 ],
 "metadata": {
  "kernelspec": {
   "display_name": "samsung",
   "language": "python",
   "name": "python3"
  },
  "language_info": {
   "codemirror_mode": {
    "name": "ipython",
    "version": 3
   },
   "file_extension": ".py",
   "mimetype": "text/x-python",
   "name": "python",
   "nbconvert_exporter": "python",
   "pygments_lexer": "ipython3",
   "version": "3.8.17"
  },
  "orig_nbformat": 4
 },
 "nbformat": 4,
 "nbformat_minor": 2
}
